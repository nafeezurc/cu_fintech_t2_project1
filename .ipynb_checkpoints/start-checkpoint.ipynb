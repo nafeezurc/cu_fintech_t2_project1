{
 "cells": [
  {
   "cell_type": "code",
   "execution_count": 1,
   "id": "357d4e11-9afd-4852-bbbf-0dc8eb530626",
   "metadata": {},
   "outputs": [],
   "source": [
    "import fire\n",
    "import questionary\n",
    "import pandas as pd\n",
    "import numpy as np\n",
    "from pathlib import Path"
   ]
  },
  {
   "cell_type": "code",
   "execution_count": 3,
   "id": "56a1a236-a182-4c12-be62-28efd3b62bc2",
   "metadata": {},
   "outputs": [
    {
     "ename": "AttributeError",
     "evalue": "module 'questionary' has no attribute 'ask'",
     "output_type": "error",
     "traceback": [
      "\u001b[1;31m---------------------------------------------------------------------------\u001b[0m",
      "\u001b[1;31mAttributeError\u001b[0m                            Traceback (most recent call last)",
      "Cell \u001b[1;32mIn[3], line 23\u001b[0m\n\u001b[0;32m     20\u001b[0m     answers \u001b[38;5;241m=\u001b[39m [name, income, word, protect, unexpected]\n\u001b[0;32m     21\u001b[0m     \u001b[38;5;28;01mreturn\u001b[39;00m answers\n\u001b[1;32m---> 23\u001b[0m \u001b[38;5;28mprint\u001b[39m(\u001b[43mcustomer_data\u001b[49m\u001b[43m(\u001b[49m\u001b[43m)\u001b[49m)\n",
      "Cell \u001b[1;32mIn[3], line 2\u001b[0m, in \u001b[0;36mcustomer_data\u001b[1;34m()\u001b[0m\n\u001b[0;32m      1\u001b[0m \u001b[38;5;28;01mdef\u001b[39;00m \u001b[38;5;21mcustomer_data\u001b[39m():\n\u001b[1;32m----> 2\u001b[0m     name \u001b[38;5;241m=\u001b[39m \u001b[43mquestionary\u001b[49m\u001b[38;5;241;43m.\u001b[39;49m\u001b[43mask\u001b[49m(\u001b[38;5;124m\"\u001b[39m\u001b[38;5;124mWhat is your name?\u001b[39m\u001b[38;5;124m\"\u001b[39m)\n\u001b[0;32m      3\u001b[0m     income \u001b[38;5;241m=\u001b[39m questionary\u001b[38;5;241m.\u001b[39mselect(\n\u001b[0;32m      4\u001b[0m         \u001b[38;5;124m\"\u001b[39m\u001b[38;5;124mWhat would you consider your income level to be?\u001b[39m\u001b[38;5;124m\"\u001b[39m,\n\u001b[0;32m      5\u001b[0m         choices\u001b[38;5;241m=\u001b[39m[\u001b[38;5;124m\"\u001b[39m\u001b[38;5;124mLow\u001b[39m\u001b[38;5;124m\"\u001b[39m,\u001b[38;5;124m\"\u001b[39m\u001b[38;5;124mMedium\u001b[39m\u001b[38;5;124m\"\u001b[39m,\u001b[38;5;124m\"\u001b[39m\u001b[38;5;124mHigh\u001b[39m\u001b[38;5;124m\"\u001b[39m],\n\u001b[0;32m      6\u001b[0m     )\u001b[38;5;241m.\u001b[39mask()\n\u001b[0;32m      7\u001b[0m     word \u001b[38;5;241m=\u001b[39m questionary\u001b[38;5;241m.\u001b[39mselect(\n\u001b[0;32m      8\u001b[0m         \u001b[38;5;124m\"\u001b[39m\u001b[38;5;124mWhich of the following words first comes to mind when considering risk in the financial context?\u001b[39m\u001b[38;5;124m\"\u001b[39m,\n\u001b[0;32m      9\u001b[0m         choices\u001b[38;5;241m=\u001b[39m[\u001b[38;5;124m\"\u001b[39m\u001b[38;5;124mLoss\u001b[39m\u001b[38;5;124m\"\u001b[39m,\u001b[38;5;124m\"\u001b[39m\u001b[38;5;124mUncertainty\u001b[39m\u001b[38;5;124m\"\u001b[39m,\u001b[38;5;124m\"\u001b[39m\u001b[38;5;124mOpportunity\u001b[39m\u001b[38;5;124m\"\u001b[39m],\n\u001b[0;32m     10\u001b[0m     )\u001b[38;5;241m.\u001b[39mask()\n",
      "\u001b[1;31mAttributeError\u001b[0m: module 'questionary' has no attribute 'ask'"
     ]
    }
   ],
   "source": [
    "def customer_data():\n",
    "    name = questionary.text(\"What is your name?\").ask()\n",
    "    income = questionary.select(\n",
    "        \"What would you consider your income level to be?\",\n",
    "        choices=[\"Low\",\"Medium\",\"High\"],\n",
    "    ).ask()\n",
    "    word = questionary.select(\n",
    "        \"Which of the following words first comes to mind when considering risk in the financial context?\",\n",
    "        choices=[\"Loss\",\"Uncertainty\",\"Opportunity\"],\n",
    "    ).ask()\n",
    "    protect = questionary.select(\n",
    "        \"Do you agree with the following statement?: \\\"Protecting my portfolio is more important than my returns.\\\"\",\n",
    "        choices=[\"Agree\",\"Neutral\",\"Disagree\"],\n",
    "    ).ask()\n",
    "    unexpected = questionary.select(\n",
    "        \"If you unexpectedly received $100,000 to invest today, which of the following best describes you?\",\n",
    "        choices=[\"Invest in quality bonds\",\"Invest in a mix of bonds and stocks\",\"Invest in Cryptocurrencies\"],\n",
    "    ).ask()\n",
    "    \n",
    "    answers = [name, income, word, protect, unexpected]\n",
    "    return answers\n",
    "\n",
    "print(customer_data())"
   ]
  },
  {
   "cell_type": "code",
   "execution_count": null,
   "id": "59389840-d2e3-400e-b37c-c72eb4085afd",
   "metadata": {},
   "outputs": [],
   "source": []
  }
 ],
 "metadata": {
  "kernelspec": {
   "display_name": "Python 3 (ipykernel)",
   "language": "python",
   "name": "python3"
  },
  "language_info": {
   "codemirror_mode": {
    "name": "ipython",
    "version": 3
   },
   "file_extension": ".py",
   "mimetype": "text/x-python",
   "name": "python",
   "nbconvert_exporter": "python",
   "pygments_lexer": "ipython3",
   "version": "3.9.13"
  }
 },
 "nbformat": 4,
 "nbformat_minor": 5
}
